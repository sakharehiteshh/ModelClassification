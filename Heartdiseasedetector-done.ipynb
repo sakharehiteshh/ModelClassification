{
 "cells": [
  {
   "cell_type": "code",
   "execution_count": 1,
   "id": "2706632e",
   "metadata": {},
   "outputs": [],
   "source": [
    "import pandas as pd\n",
    "from sklearn.model_selection import train_test_split\n",
    "from sklearn.neighbors import KNeighborsClassifier\n",
    "from sklearn.tree import DecisionTreeClassifier\n",
    "from sklearn.ensemble import RandomForestClassifier\n",
    "from sklearn.metrics import accuracy_score, precision_score, recall_score, f1_score, confusion_matrix"
   ]
  },
  {
   "cell_type": "code",
   "execution_count": 2,
   "id": "641cc6b5",
   "metadata": {},
   "outputs": [],
   "source": [
    "# Load data\n",
    "data = pd.read_csv('heart.csv')"
   ]
  },
  {
   "cell_type": "code",
   "execution_count": 3,
   "id": "a57c5931",
   "metadata": {},
   "outputs": [],
   "source": [
    "# Split data into train and test sets\n",
    "train, test = train_test_split(data, test_size=0.25, random_state=50)"
   ]
  },
  {
   "cell_type": "code",
   "execution_count": 4,
   "id": "b91dc88b",
   "metadata": {},
   "outputs": [],
   "source": [
    "# Define the features and target variable\n",
    "features = train.iloc[:, :-1]\n",
    "target = train.iloc[:, -1]"
   ]
  },
  {
   "cell_type": "code",
   "execution_count": 5,
   "id": "7d2dc899",
   "metadata": {},
   "outputs": [],
   "source": [
    "# K-Nearest Neighbors Classifier\n",
    "knn = KNeighborsClassifier(n_neighbors=6)\n",
    "knn.fit(features, target)\n",
    "knn_pred = knn.predict(test.iloc[:, :-1])\n",
    "knn_accuracy = accuracy_score(test.iloc[:, -1], knn_pred)\n",
    "knn_precision = precision_score(test.iloc[:, -1], knn_pred)\n",
    "knn_recall = recall_score(test.iloc[:, -1], knn_pred)\n",
    "knn_f1 = f1_score(test.iloc[:, -1], knn_pred)\n",
    "knn_cm = confusion_matrix(test.iloc[:, -1], knn_pred)"
   ]
  },
  {
   "cell_type": "code",
   "execution_count": 6,
   "id": "85ac43af",
   "metadata": {},
   "outputs": [
    {
     "name": "stdout",
     "output_type": "stream",
     "text": [
      "K-Nearest Neighbors Classifier:\n",
      "Accuracy: 72.609\n",
      "Precision: 79.000\n",
      "Recall: 65.289\n",
      "F1 score: 71.493\n",
      "Confusion matrix:\n",
      "[[88 21]\n",
      " [42 79]]\n"
     ]
    }
   ],
   "source": [
    "# Print results\n",
    "print(\"K-Nearest Neighbors Classifier:\")\n",
    "print(f\"Accuracy: {knn_accuracy*100:.3f}\")\n",
    "print(f\"Precision: {knn_precision*100:.3f}\")\n",
    "print(f\"Recall: {knn_recall*100:.3f}\")\n",
    "print(f\"F1 score: {knn_f1*100:.3f}\")\n",
    "print(f\"Confusion matrix:\\n{knn_cm}\")"
   ]
  },
  {
   "cell_type": "code",
   "execution_count": 7,
   "id": "d7729a8f",
   "metadata": {},
   "outputs": [],
   "source": [
    "# Decision Tree Classifier\n",
    "dt = DecisionTreeClassifier(max_depth=9)\n",
    "dt.fit(features, target)\n",
    "dt_pred = dt.predict(test.iloc[:, :-1])\n",
    "dt_accuracy = accuracy_score(test.iloc[:, -1], dt_pred)\n",
    "dt_precision = precision_score(test.iloc[:, -1], dt_pred)\n",
    "dt_recall = recall_score(test.iloc[:, -1], dt_pred)\n",
    "dt_f1 = f1_score(test.iloc[:, -1], dt_pred)\n",
    "dt_cm = confusion_matrix(test.iloc[:, -1], dt_pred)"
   ]
  },
  {
   "cell_type": "code",
   "execution_count": 8,
   "id": "761b5bd5",
   "metadata": {},
   "outputs": [
    {
     "name": "stdout",
     "output_type": "stream",
     "text": [
      "Decision Tree Classifier:\n",
      "Accuracy: 81.739\n",
      "Precision: 82.114\n",
      "Recall: 83.471\n",
      "F1 score: 82.787\n",
      "Confusion matrix:\n",
      "[[ 87  22]\n",
      " [ 20 101]]\n"
     ]
    }
   ],
   "source": [
    "# Print results\n",
    "print(\"Decision Tree Classifier:\")\n",
    "print(f\"Accuracy: {dt_accuracy*100:.3f}\")\n",
    "print(f\"Precision: {dt_precision*100:.3f}\")\n",
    "print(f\"Recall: {dt_recall*100:.3f}\")\n",
    "print(f\"F1 score: {dt_f1*100:.3f}\")\n",
    "print(f\"Confusion matrix:\\n{dt_cm}\")"
   ]
  },
  {
   "cell_type": "code",
   "execution_count": 9,
   "id": "023a4a31",
   "metadata": {},
   "outputs": [],
   "source": [
    "# Random Forest Classifier\n",
    "rf = RandomForestClassifier(n_estimators=300, max_depth=7)\n",
    "rf.fit(features, target)\n",
    "rf_pred = rf.predict(test.iloc[:, :-1])\n",
    "rf_accuracy = accuracy_score(test.iloc[:, -1], rf_pred)\n",
    "rf_precision = precision_score(test.iloc[:, -1], rf_pred)\n",
    "rf_recall = recall_score(test.iloc[:, -1], rf_pred)\n",
    "rf_f1 = f1_score(test.iloc[:, -1], rf_pred)\n",
    "rf_cm = confusion_matrix(test.iloc[:, -1], rf_pred)"
   ]
  },
  {
   "cell_type": "code",
   "execution_count": 10,
   "id": "84716752",
   "metadata": {},
   "outputs": [
    {
     "name": "stdout",
     "output_type": "stream",
     "text": [
      "Random Forest Classifier:\n",
      "Accuracy: 89.130\n",
      "Precision: 90.000\n",
      "Recall: 89.256\n",
      "F1 score: 89.627\n",
      "Confusion matrix:\n",
      "[[ 97  12]\n",
      " [ 13 108]]\n"
     ]
    }
   ],
   "source": [
    "# Print results\n",
    "print(\"Random Forest Classifier:\")\n",
    "print(f\"Accuracy: {rf_accuracy*100:.3f}\")\n",
    "print(f\"Precision: {rf_precision*100:.3f}\")\n",
    "print(f\"Recall: {rf_recall*100:.3f}\")\n",
    "print(f\"F1 score: {rf_f1*100:.3f}\")\n",
    "print(f\"Confusion matrix:\\n{rf_cm}\")"
   ]
  },
  {
   "cell_type": "code",
   "execution_count": null,
   "id": "b90b36f3",
   "metadata": {},
   "outputs": [],
   "source": []
  },
  {
   "cell_type": "code",
   "execution_count": null,
   "id": "f78a7eea",
   "metadata": {},
   "outputs": [],
   "source": []
  },
  {
   "cell_type": "code",
   "execution_count": null,
   "id": "643f079a",
   "metadata": {},
   "outputs": [],
   "source": []
  }
 ],
 "metadata": {
  "kernelspec": {
   "display_name": "Python 3 (ipykernel)",
   "language": "python",
   "name": "python3"
  },
  "language_info": {
   "codemirror_mode": {
    "name": "ipython",
    "version": 3
   },
   "file_extension": ".py",
   "mimetype": "text/x-python",
   "name": "python",
   "nbconvert_exporter": "python",
   "pygments_lexer": "ipython3",
   "version": "3.10.4"
  }
 },
 "nbformat": 4,
 "nbformat_minor": 5
}
